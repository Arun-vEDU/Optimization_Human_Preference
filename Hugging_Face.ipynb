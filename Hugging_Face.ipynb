{
 "cells": [
  {
   "cell_type": "code",
   "execution_count": null,
   "metadata": {},
   "outputs": [
    {
     "name": "stdout",
     "output_type": "stream",
     "text": [
      "Repository created: https://huggingface.co/arunyasenadeera/A5dpo-finetuned-model\n"
     ]
    }
   ],
   "source": [
    "import os\n",
    "from huggingface_hub import login, HfApi\n",
    "from transformers import AutoModelForCausalLM, AutoTokenizer\n",
    "\n",
    "# Step 1: Login to Hugging Face\n",
    "login(token= os.getenv(\"HF_TOKEN\"))\n",
    "\n",
    "# Step 2: Create a new repository\n",
    "api = HfApi()\n",
    "username = \"arunyasenadeera\"  #  Hugging Face username\n",
    "repo_name = \"A5dpo-finetuned-model\"  # repository name\n",
    "api.create_repo(\n",
    "    repo_id=f\"{username}/{repo_name}\",\n",
    "    repo_type=\"model\",\n",
    "    private=False,\n",
    "    exist_ok=True,\n",
    ")\n",
    "\n",
    "print(f\"Repository created: https://huggingface.co/{username}/{repo_name}\")\n"
   ]
  },
  {
   "cell_type": "code",
   "execution_count": null,
   "metadata": {},
   "outputs": [
    {
     "name": "stderr",
     "output_type": "stream",
     "text": [
      "The installed version of bitsandbytes was compiled without GPU support. 8-bit optimizers, 8-bit multiplication, and GPU quantization are unavailable.\n"
     ]
    }
   ],
   "source": [
    "# Step 3: Load trained model and tokenizer\n",
    "model = AutoModelForCausalLM.from_pretrained(\"dpo-finetuned-model\")\n",
    "tokenizer = AutoTokenizer.from_pretrained(\"dpo-finetuned-model\")\n",
    "\n"
   ]
  },
  {
   "cell_type": "code",
   "execution_count": 3,
   "metadata": {},
   "outputs": [
    {
     "data": {
      "application/vnd.jupyter.widget-view+json": {
       "model_id": "cc4d0691bd7a4a32b4ea0d8e1956138b",
       "version_major": 2,
       "version_minor": 0
      },
      "text/plain": [
       "adapter_model.safetensors:   0%|          | 0.00/26.0M [00:00<?, ?B/s]"
      ]
     },
     "metadata": {},
     "output_type": "display_data"
    },
    {
     "data": {
      "application/vnd.jupyter.widget-view+json": {
       "model_id": "714a5c95915f4bc1a22e1d9daffa6663",
       "version_major": 2,
       "version_minor": 0
      },
      "text/plain": [
       "README.md:   0%|          | 0.00/5.17k [00:00<?, ?B/s]"
      ]
     },
     "metadata": {},
     "output_type": "display_data"
    },
    {
     "name": "stdout",
     "output_type": "stream",
     "text": [
      "Model uploaded to Hugging Face Hub: https://huggingface.co/arunyasenadeera/A5dpo-finetuned-model\n"
     ]
    }
   ],
   "source": [
    "# Step 4: Push the model and tokenizer to the Hub\n",
    "model.push_to_hub(f\"{username}/{repo_name}\")\n",
    "tokenizer.push_to_hub(f\"{username}/{repo_name}\")\n",
    "\n",
    "print(f\"Model uploaded to Hugging Face Hub: https://huggingface.co/{username}/{repo_name}\")"
   ]
  }
 ],
 "metadata": {
  "kernelspec": {
   "display_name": "Python 3",
   "language": "python",
   "name": "python3"
  },
  "language_info": {
   "codemirror_mode": {
    "name": "ipython",
    "version": 3
   },
   "file_extension": ".py",
   "mimetype": "text/x-python",
   "name": "python",
   "nbconvert_exporter": "python",
   "pygments_lexer": "ipython3",
   "version": "3.12.5"
  }
 },
 "nbformat": 4,
 "nbformat_minor": 2
}
